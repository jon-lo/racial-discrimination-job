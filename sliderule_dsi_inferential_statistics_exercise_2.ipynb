{
 "cells": [
  {
   "cell_type": "markdown",
   "metadata": {},
   "source": [
    "# Examining Racial Discrimination in the US Job Market\n",
    "\n",
    "### Background\n",
    "Racial discrimination continues to be pervasive in cultures throughout the world. Researchers examined the level of racial discrimination in the United States labor market by randomly assigning identical résumés to black-sounding or white-sounding names and observing the impact on requests for interviews from employers.\n",
    "\n",
    "### Data\n",
    "In the dataset provided, each row represents a resume. The 'race' column has two values, 'b' and 'w', indicating black-sounding and white-sounding. The column 'call' has two values, 1 and 0, indicating whether the resume received a call from employers or not.\n",
    "\n",
    "Note that the 'b' and 'w' values in race are assigned randomly to the resumes when presented to the employer."
   ]
  },
  {
   "cell_type": "markdown",
   "metadata": {},
   "source": [
    "<div class=\"span5 alert alert-info\">\n",
    "### Exercises\n",
    "You will perform a statistical analysis to establish whether race has a significant impact on the rate of callbacks for resumes.\n",
    "\n",
    "Answer the following questions **in this notebook below and submit to your Github account**. \n",
    "\n",
    "   1. What test is appropriate for this problem? Does CLT apply?\n",
    "   2. What are the null and alternate hypotheses?\n",
    "   3. Compute margin of error, confidence interval, and p-value. Try using both the bootstrapping and the frequentist statistical approaches.\n",
    "   4. Write a story describing the statistical significance in the context or the original problem.\n",
    "   5. Does your analysis mean that race/name is the most important factor in callback success? Why or why not? If not, how would you amend your analysis?\n",
    "\n",
    "You can include written notes in notebook cells using Markdown: \n",
    "   - In the control panel at the top, choose Cell > Cell Type > Markdown\n",
    "   - Markdown syntax: http://nestacms.com/docs/creating-content/markdown-cheat-sheet\n",
    "\n",
    "\n",
    "#### Resources\n",
    "+ Experiment information and data source: http://www.povertyactionlab.org/evaluation/discrimination-job-market-united-states\n",
    "+ Scipy statistical methods: http://docs.scipy.org/doc/scipy/reference/stats.html \n",
    "+ Markdown syntax: http://nestacms.com/docs/creating-content/markdown-cheat-sheet\n",
    "+ Formulas for the Bernoulli distribution: https://en.wikipedia.org/wiki/Bernoulli_distribution\n",
    "</div>\n",
    "****"
   ]
  },
  {
   "cell_type": "code",
   "execution_count": 18,
   "metadata": {
    "collapsed": true
   },
   "outputs": [],
   "source": [
    "import pandas as pd\n",
    "import numpy as np\n",
    "from scipy import stats"
   ]
  },
  {
   "cell_type": "code",
   "execution_count": 19,
   "metadata": {
    "collapsed": true
   },
   "outputs": [],
   "source": [
    "data = pd.io.stata.read_stata('data/us_job_market_discrimination.dta')"
   ]
  },
  {
   "cell_type": "code",
   "execution_count": 20,
   "metadata": {
    "collapsed": false
   },
   "outputs": [
    {
     "name": "stdout",
     "output_type": "stream",
     "text": [
      "Number of black-sounding resumes:  2435\n",
      "Number of white-sounding resumes:  2435\n"
     ]
    }
   ],
   "source": [
    "n_b, n_w = data.race.value_counts()\n",
    "print('Number of black-sounding resumes: ', n_b)\n",
    "print('Number of white-sounding resumes: ', n_w)"
   ]
  },
  {
   "cell_type": "code",
   "execution_count": 21,
   "metadata": {
    "collapsed": false
   },
   "outputs": [],
   "source": [
    "# number of callbacks for black-sounding names\n",
    "callbacks_b = sum(data[data.race=='b'].call)\n",
    "callbacks_w = sum(data[data.race=='w'].call)"
   ]
  },
  {
   "cell_type": "code",
   "execution_count": 22,
   "metadata": {
    "collapsed": false
   },
   "outputs": [
    {
     "data": {
      "text/html": [
       "<div>\n",
       "<table border=\"1\" class=\"dataframe\">\n",
       "  <thead>\n",
       "    <tr style=\"text-align: right;\">\n",
       "      <th></th>\n",
       "      <th>id</th>\n",
       "      <th>ad</th>\n",
       "      <th>education</th>\n",
       "      <th>ofjobs</th>\n",
       "      <th>yearsexp</th>\n",
       "      <th>honors</th>\n",
       "      <th>volunteer</th>\n",
       "      <th>military</th>\n",
       "      <th>empholes</th>\n",
       "      <th>occupspecific</th>\n",
       "      <th>...</th>\n",
       "      <th>compreq</th>\n",
       "      <th>orgreq</th>\n",
       "      <th>manuf</th>\n",
       "      <th>transcom</th>\n",
       "      <th>bankreal</th>\n",
       "      <th>trade</th>\n",
       "      <th>busservice</th>\n",
       "      <th>othservice</th>\n",
       "      <th>missind</th>\n",
       "      <th>ownership</th>\n",
       "    </tr>\n",
       "  </thead>\n",
       "  <tbody>\n",
       "    <tr>\n",
       "      <th>0</th>\n",
       "      <td>b</td>\n",
       "      <td>1</td>\n",
       "      <td>4</td>\n",
       "      <td>2</td>\n",
       "      <td>6</td>\n",
       "      <td>0</td>\n",
       "      <td>0</td>\n",
       "      <td>0</td>\n",
       "      <td>1</td>\n",
       "      <td>17</td>\n",
       "      <td>...</td>\n",
       "      <td>1.0</td>\n",
       "      <td>0.0</td>\n",
       "      <td>1.0</td>\n",
       "      <td>0.0</td>\n",
       "      <td>0.0</td>\n",
       "      <td>0.0</td>\n",
       "      <td>0.0</td>\n",
       "      <td>0.0</td>\n",
       "      <td>0.0</td>\n",
       "      <td></td>\n",
       "    </tr>\n",
       "    <tr>\n",
       "      <th>1</th>\n",
       "      <td>b</td>\n",
       "      <td>1</td>\n",
       "      <td>3</td>\n",
       "      <td>3</td>\n",
       "      <td>6</td>\n",
       "      <td>0</td>\n",
       "      <td>1</td>\n",
       "      <td>1</td>\n",
       "      <td>0</td>\n",
       "      <td>316</td>\n",
       "      <td>...</td>\n",
       "      <td>1.0</td>\n",
       "      <td>0.0</td>\n",
       "      <td>1.0</td>\n",
       "      <td>0.0</td>\n",
       "      <td>0.0</td>\n",
       "      <td>0.0</td>\n",
       "      <td>0.0</td>\n",
       "      <td>0.0</td>\n",
       "      <td>0.0</td>\n",
       "      <td></td>\n",
       "    </tr>\n",
       "    <tr>\n",
       "      <th>2</th>\n",
       "      <td>b</td>\n",
       "      <td>1</td>\n",
       "      <td>4</td>\n",
       "      <td>1</td>\n",
       "      <td>6</td>\n",
       "      <td>0</td>\n",
       "      <td>0</td>\n",
       "      <td>0</td>\n",
       "      <td>0</td>\n",
       "      <td>19</td>\n",
       "      <td>...</td>\n",
       "      <td>1.0</td>\n",
       "      <td>0.0</td>\n",
       "      <td>1.0</td>\n",
       "      <td>0.0</td>\n",
       "      <td>0.0</td>\n",
       "      <td>0.0</td>\n",
       "      <td>0.0</td>\n",
       "      <td>0.0</td>\n",
       "      <td>0.0</td>\n",
       "      <td></td>\n",
       "    </tr>\n",
       "    <tr>\n",
       "      <th>3</th>\n",
       "      <td>b</td>\n",
       "      <td>1</td>\n",
       "      <td>3</td>\n",
       "      <td>4</td>\n",
       "      <td>6</td>\n",
       "      <td>0</td>\n",
       "      <td>1</td>\n",
       "      <td>0</td>\n",
       "      <td>1</td>\n",
       "      <td>313</td>\n",
       "      <td>...</td>\n",
       "      <td>1.0</td>\n",
       "      <td>0.0</td>\n",
       "      <td>1.0</td>\n",
       "      <td>0.0</td>\n",
       "      <td>0.0</td>\n",
       "      <td>0.0</td>\n",
       "      <td>0.0</td>\n",
       "      <td>0.0</td>\n",
       "      <td>0.0</td>\n",
       "      <td></td>\n",
       "    </tr>\n",
       "    <tr>\n",
       "      <th>4</th>\n",
       "      <td>b</td>\n",
       "      <td>1</td>\n",
       "      <td>3</td>\n",
       "      <td>3</td>\n",
       "      <td>22</td>\n",
       "      <td>0</td>\n",
       "      <td>0</td>\n",
       "      <td>0</td>\n",
       "      <td>0</td>\n",
       "      <td>313</td>\n",
       "      <td>...</td>\n",
       "      <td>1.0</td>\n",
       "      <td>1.0</td>\n",
       "      <td>0.0</td>\n",
       "      <td>0.0</td>\n",
       "      <td>0.0</td>\n",
       "      <td>0.0</td>\n",
       "      <td>0.0</td>\n",
       "      <td>1.0</td>\n",
       "      <td>0.0</td>\n",
       "      <td>Nonprofit</td>\n",
       "    </tr>\n",
       "  </tbody>\n",
       "</table>\n",
       "<p>5 rows × 65 columns</p>\n",
       "</div>"
      ],
      "text/plain": [
       "  id ad  education  ofjobs  yearsexp  honors  volunteer  military  empholes  \\\n",
       "0  b  1          4       2         6       0          0         0         1   \n",
       "1  b  1          3       3         6       0          1         1         0   \n",
       "2  b  1          4       1         6       0          0         0         0   \n",
       "3  b  1          3       4         6       0          1         0         1   \n",
       "4  b  1          3       3        22       0          0         0         0   \n",
       "\n",
       "   occupspecific    ...      compreq  orgreq  manuf  transcom  bankreal trade  \\\n",
       "0             17    ...          1.0     0.0    1.0       0.0       0.0   0.0   \n",
       "1            316    ...          1.0     0.0    1.0       0.0       0.0   0.0   \n",
       "2             19    ...          1.0     0.0    1.0       0.0       0.0   0.0   \n",
       "3            313    ...          1.0     0.0    1.0       0.0       0.0   0.0   \n",
       "4            313    ...          1.0     1.0    0.0       0.0       0.0   0.0   \n",
       "\n",
       "  busservice othservice  missind  ownership  \n",
       "0        0.0        0.0      0.0             \n",
       "1        0.0        0.0      0.0             \n",
       "2        0.0        0.0      0.0             \n",
       "3        0.0        0.0      0.0             \n",
       "4        0.0        1.0      0.0  Nonprofit  \n",
       "\n",
       "[5 rows x 65 columns]"
      ]
     },
     "execution_count": 22,
     "metadata": {},
     "output_type": "execute_result"
    }
   ],
   "source": [
    "data.head()"
   ]
  },
  {
   "cell_type": "markdown",
   "metadata": {
    "collapsed": true
   },
   "source": [
    "<div class=\"span5 alert alert-info\">\n",
    "<p>\n",
    "****Answers to Q1 and Q2 here:****\n",
    "</p> \n",
    "<p>\n",
    "Q1: What test is appropriate for this problem? Does CLT apply?\n",
    "</p>\n",
    "<p>\n",
    "The appropriate test for this problem is a two-sample t-test comparing: resumes with black-sounding names and the resumes with white-sounding names. The Central Limit Theorem (CLT) applies in this case as the number of black-sounding resumes (2435) and white-sounding resumes (2435) are both in excess of >30, which is the minimum sample size for the Central Limit Theorem to hold. A t-test instead of a z-test is appropriate in this situation given that the sample variances are not known to be representative of the population variances. \n",
    "</p>\n",
    "<p>\n",
    "Q2: What are the null and alternate hypotheses?\n",
    "</p>\n",
    "<p>\n",
    "The Null Hypothesis (Ho) states that the mean callback rate (m1) for resumes with black-sounding names is equal to the mean callback rate (m2) for resumes with white-sounding names. Stated mathematically:\n",
    "Ho: m1 - m2 = 0\n",
    "</p>\n",
    "\n",
    "<p>\n",
    "The Alternative Hypothesis (H1) states that the mean callback rate for resumes with black-sounding names is not equal to the mean callback rate for resumes with white-sounding names. Stated mathematically:\n",
    "Ho: m1 - m2 != 0\n",
    "</p>\n",
    "\n",
    "</div>"
   ]
  },
  {
   "cell_type": "code",
   "execution_count": 23,
   "metadata": {
    "collapsed": true
   },
   "outputs": [],
   "source": [
    "w = data[data.race=='w'].call\n",
    "b = data[data.race=='b'].call"
   ]
  },
  {
   "cell_type": "markdown",
   "metadata": {},
   "source": [
    "<div class=\"span5 alert alert-info\">\n",
    "<p>\n",
    "Q3: See below for computations for Margin of Error, Confidence Interval and p-value.\n",
    "</p>\n",
    "</div>"
   ]
  },
  {
   "cell_type": "markdown",
   "metadata": {},
   "source": [
    "#### Bootstrap Replicate Approach"
   ]
  },
  {
   "cell_type": "code",
   "execution_count": 24,
   "metadata": {
    "collapsed": false
   },
   "outputs": [
    {
     "name": "stdout",
     "output_type": "stream",
     "text": [
      "Mean callback rate all for all resumes:  0.08049281686544418\n",
      "Empirical difference between callback rates:  0.03203285485506058\n"
     ]
    }
   ],
   "source": [
    "# Compute callback rate for all resumes: cbr_mean_all\n",
    "cbr_mean_all = np.mean(data.call)\n",
    "print('Mean callback rate all for all resumes: ', cbr_mean_all)\n",
    "\n",
    "# Compute Empirical Difference in Mean Callback Rates: empirical_diff_means\n",
    "empirical_diff_means = np.mean(w) - np.mean(b)\n",
    "print('Empirical difference between callback rates: ', empirical_diff_means)"
   ]
  },
  {
   "cell_type": "code",
   "execution_count": 25,
   "metadata": {
    "collapsed": false
   },
   "outputs": [
    {
     "name": "stdout",
     "output_type": "stream",
     "text": [
      "p-value, bootstrap approach: {:5f} 0.023\n"
     ]
    }
   ],
   "source": [
    "# Generated shifted arrays \n",
    "w_shifted = w - np.mean(w) + cbr_mean_all\n",
    "b_shifted = b - np.mean(b) + cbr_mean_all\n",
    "\n",
    "# Compute 1000 bootstrap replicates from shifted arrays\n",
    "size = 1000\n",
    "bs_replicates_w = np.empty(size)\n",
    "bs_replicates_b = np.empty(size)\n",
    "for i in range(size):\n",
    "    bs_replicates_w[i] = np.mean(np.random.choice(w,len(w)))\n",
    "    bs_replicates_b[i] = np.mean(np.random.choice(b,len(b)))\n",
    "\n",
    "# Compute difference of means: bs_replicates\n",
    "bs_replicates = bs_replicates_w - bs_replicates_b\n",
    "# Compute and print p-value: p\n",
    "p = np.sum(bs_replicates == empirical_diff_means) / size\n",
    "print('p-value, bootstrap approach: {:5f}', p)"
   ]
  },
  {
   "cell_type": "code",
   "execution_count": 26,
   "metadata": {
    "collapsed": false
   },
   "outputs": [
    {
     "name": "stdout",
     "output_type": "stream",
     "text": [
      "The 95% confidence interval is from  0.0164271069691  to  0.046406570822 .\n",
      "The margin of error, as computed from the bootstrap replicates, is:  0.0147304294339\n"
     ]
    }
   ],
   "source": [
    "# Compute the 95% confidence interval, bootstrap approach\n",
    "conf_int = np.percentile(bs_replicates, [2.5, 97.5])\n",
    "\n",
    "# Compute Margin of Error, Bootstrap Replicate Approach\n",
    "margin_of_error = 1.96 * bs_replicates.std()\n",
    "print('The 95% confidence interval is from ', conf_int[0], ' to ', conf_int[1], '.')\n",
    "print('The margin of error, as computed from the bootstrap replicates, is: ', margin_of_error)"
   ]
  },
  {
   "cell_type": "markdown",
   "metadata": {},
   "source": [
    "#### Frequentist Approach"
   ]
  },
  {
   "cell_type": "code",
   "execution_count": 27,
   "metadata": {
    "collapsed": false
   },
   "outputs": [
    {
     "name": "stdout",
     "output_type": "stream",
     "text": [
      "p-value, two-sample t-test: 0.000039\n",
      "The 95% confidence interval is from  0.016770673984  to  0.0472950344349 .\n",
      "The margin of error is  0.0152621795798\n"
     ]
    }
   ],
   "source": [
    "# Perform two-sample t-test\n",
    "from scipy.stats import ttest_ind\n",
    "t, p = ttest_ind(w, b)\n",
    "print('p-value, two-sample t-test: {:5f}'.format(p))\n",
    "\n",
    "# Compute 95% Confidence Interval, Frequentist Approach\n",
    "import statsmodels.stats.api as sms\n",
    "cm = sms.CompareMeans(sms.DescrStatsW(w), sms.DescrStatsW(b))\n",
    "conf_int = cm.tconfint_diff(alpha=0.05, usevar='unequal')\n",
    "print('The 95% confidence interval is from ', conf_int[0], ' to ', conf_int[1], '.')\n",
    "\n",
    "# Compute Margin of Error\n",
    "margin_of_error = conf_int[1] - empirical_diff_means \n",
    "print('The margin of error is ', margin_of_error)\n"
   ]
  },
  {
   "cell_type": "markdown",
   "metadata": {},
   "source": [
    "<div class=\"span5 alert alert-info\">\n",
    "<p>\n",
    "****Answers to Q4 and Q5 here:****\n",
    "</p> \n",
    "<p>\n",
    "Q4: Write a story describing the statistical significance in the context or the original problem.\n",
    "</p>\n",
    "<p>\n",
    "\n",
    "Both the bootstrapping and the frequentist statistical approach produced p-values less than .05, such that we can reject the null hypothesis. The null hypothesis states that the mean callback rate for black-sounding resumes is equal to the mean callback rate for white-sounding resumes.  We reject the null hypothesis, and accept the alternate hypothesis that the mean callback rate for black-sounding resumes is NOT equal to the mean callback rate for white-sounding resumes.  This finding suggests that race/name is an important factor in callback success. \n",
    "\n",
    "</p>\n",
    "<p>\n",
    "Q5: Does your analysis mean that race/name is the most important factor in callback success? Why or why not? If not, how would you amend your analysis?\n",
    "</p>\n",
    "\n",
    "<p>\n",
    "\n",
    "The analysis suggests that race/name is ONE important factor in callback success, but not necessarily the most important factor.  Sex/Gender, for example, could be another important factor in callback success that is not accounted for in this analysis. To account for Sex/Gener, I would conduct an additional two-sample t-test comparing the mean callback rates for men and women.  Additional analysis comparing the mean callback rates between black men, black women, white men and white women could also be conducted.\n",
    "\n",
    "</p>\n",
    "\n",
    "</div>"
   ]
  }
 ],
 "metadata": {
  "kernelspec": {
   "display_name": "Python 3",
   "language": "python",
   "name": "python3"
  },
  "language_info": {
   "codemirror_mode": {
    "name": "ipython",
    "version": 3
   },
   "file_extension": ".py",
   "mimetype": "text/x-python",
   "name": "python",
   "nbconvert_exporter": "python",
   "pygments_lexer": "ipython3",
   "version": "3.6.0"
  }
 },
 "nbformat": 4,
 "nbformat_minor": 1
}
